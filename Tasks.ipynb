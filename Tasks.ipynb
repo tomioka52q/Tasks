{
  "nbformat": 4,
  "nbformat_minor": 0,
  "metadata": {
    "colab": {
      "provenance": [],
      "authorship_tag": "ABX9TyMjfXUoBJEZ9kE3NL0mu3LU",
      "include_colab_link": true
    },
    "kernelspec": {
      "name": "python3",
      "display_name": "Python 3"
    },
    "language_info": {
      "name": "python"
    }
  },
  "cells": [
    {
      "cell_type": "markdown",
      "metadata": {
        "id": "view-in-github",
        "colab_type": "text"
      },
      "source": [
        "<a href=\"https://colab.research.google.com/github/tomioka52q/Tasks/blob/main/Tasks.ipynb\" target=\"_parent\"><img src=\"https://colab.research.google.com/assets/colab-badge.svg\" alt=\"Open In Colab\"/></a>"
      ]
    },
    {
      "cell_type": "code",
      "execution_count": null,
      "metadata": {
        "colab": {
          "base_uri": "https://localhost:8080/"
        },
        "id": "pa9q-szhcr-W",
        "outputId": "7fcc3381-c8d7-4989-904f-f631756aa839"
      },
      "outputs": [
        {
          "output_type": "stream",
          "name": "stdout",
          "text": [
            "1\n",
            "2\n",
            "3\n",
            "6\n"
          ]
        }
      ],
      "source": [
        "number_1 = int(input())\n",
        "number_2 = int(input())\n",
        "number_3 = int(input())\n",
        "print(number_1 + number_2 + number_3)"
      ]
    },
    {
      "cell_type": "code",
      "source": [
        "number_1 = int(input())\n",
        "number_2 = int(input())\n",
        "print((number_1 * number_2) / 2)"
      ],
      "metadata": {
        "colab": {
          "base_uri": "https://localhost:8080/"
        },
        "id": "jHA34UN9dxtw",
        "outputId": "4b3bbf07-9504-4948-80e2-e51af5f6d42d"
      },
      "execution_count": null,
      "outputs": [
        {
          "output_type": "stream",
          "name": "stdout",
          "text": [
            "1\n",
            "2\n",
            "1.0\n"
          ]
        }
      ]
    },
    {
      "cell_type": "code",
      "source": [
        "name = input()\n",
        "print(f'Привет, {name}!')"
      ],
      "metadata": {
        "colab": {
          "base_uri": "https://localhost:8080/"
        },
        "id": "XbCbJgazeAmT",
        "outputId": "21624832-92fc-47a7-b7af-9e4e4f59ce50"
      },
      "execution_count": null,
      "outputs": [
        {
          "output_type": "stream",
          "name": "stdout",
          "text": [
            "Dfcz\n",
            "Привет, Dfcz!\n"
          ]
        }
      ]
    },
    {
      "cell_type": "code",
      "source": [
        "number = int(input())\n",
        "print('Следующее число:', number + 1)\n",
        "print('Предыдущее число:', number -1)"
      ],
      "metadata": {
        "colab": {
          "base_uri": "https://localhost:8080/"
        },
        "id": "DFlSfPpsfjJB",
        "outputId": "8262dec6-2191-4c8f-d22f-dd651aff381c"
      },
      "execution_count": null,
      "outputs": [
        {
          "output_type": "stream",
          "name": "stdout",
          "text": [
            "234987732\n",
            "Следующее число: 234987733\n",
            "Предыдущее число: 234987731\n"
          ]
        }
      ]
    },
    {
      "cell_type": "code",
      "source": [
        "kol = int(input('Кол-во студентов'))\n",
        "yabloki =int(input('Кол-во яблок'))\n",
        "get_apple = yabloki // kol\n",
        "ost = yabloki % kol\n",
        "print(get_apple, ost)"
      ],
      "metadata": {
        "colab": {
          "base_uri": "https://localhost:8080/"
        },
        "id": "WFddemNTTI4W",
        "outputId": "eb667678-051d-4a67-ffe6-0ee8b7dab947"
      },
      "execution_count": 1,
      "outputs": [
        {
          "output_type": "stream",
          "name": "stdout",
          "text": [
            "Кол-во студентов6\n",
            "Кол-во яблок50\n",
            "8 2\n"
          ]
        }
      ]
    },
    {
      "cell_type": "code",
      "source": [
        "N = int(input('Кол-во секунд после полуночи:'))\n",
        "print(N//3600, N//60)"
      ],
      "metadata": {
        "colab": {
          "base_uri": "https://localhost:8080/"
        },
        "id": "NphPmOtbUG_x",
        "outputId": "903ade60-fdd6-4142-b70f-cf28b63a2729"
      },
      "execution_count": 4,
      "outputs": [
        {
          "output_type": "stream",
          "name": "stdout",
          "text": [
            "Кол-во секунд после полуночи:3900\n",
            "1 65\n"
          ]
        }
      ]
    },
    {
      "cell_type": "code",
      "source": [
        "h1 = int(input('Прошло часов'))\n",
        "m1 = int(input('Прошло минут'))\n",
        "s1 = int(input('Прошло секунд'))\n",
        "h2 = int(input('Прошло часов'))\n",
        "m2 = int(input('Прошло минут'))\n",
        "s2 = int(input('Прошло секунд'))\n",
        "time1 = h1 * 3600 + m1 * 60 + s1\n",
        "time2 = h2 * 3600 + m2 * 60 + s2\n",
        "dif = time2 - time1\n",
        "print(dif)"
      ],
      "metadata": {
        "colab": {
          "base_uri": "https://localhost:8080/"
        },
        "id": "vCO0O_ohVH4E",
        "outputId": "b9208139-236f-48fe-e8e5-cf8485291da4"
      },
      "execution_count": 5,
      "outputs": [
        {
          "output_type": "stream",
          "name": "stdout",
          "text": [
            "Прошло часов1\n",
            "Прошло минут1\n",
            "Прошло секунд1\n",
            "Прошло часов2\n",
            "Прошло минут2\n",
            "Прошло секунд2\n",
            "3661\n"
          ]
        }
      ]
    }
  ]
}